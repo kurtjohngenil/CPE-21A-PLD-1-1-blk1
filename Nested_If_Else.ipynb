{
  "nbformat": 4,
  "nbformat_minor": 0,
  "metadata": {
    "colab": {
      "provenance": [],
      "authorship_tag": "ABX9TyM/MVoGvEKjyzslxAUAxIuh",
      "include_colab_link": true
    },
    "kernelspec": {
      "name": "python3",
      "display_name": "Python 3"
    },
    "language_info": {
      "name": "python"
    }
  },
  "cells": [
    {
      "cell_type": "markdown",
      "metadata": {
        "id": "view-in-github",
        "colab_type": "text"
      },
      "source": [
        "<a href=\"https://colab.research.google.com/github/kurtjohngenil/CPE-21A-PLD-1-1-blk1/blob/main/Nested_If_Else.ipynb\" target=\"_parent\"><img src=\"https://colab.research.google.com/assets/colab-badge.svg\" alt=\"Open In Colab\"/></a>"
      ]
    },
    {
      "cell_type": "markdown",
      "source": [
        "##Nested If Else\n",
        "\n"
      ],
      "metadata": {
        "id": "OW8vDpy9lZE0"
      }
    },
    {
      "cell_type": "code",
      "source": [
        "print(\"Enter a number:\")\n",
        "x = int(input())\n",
        "if x>70:\n",
        "  print(\"above 70\")\n",
        "else:\n",
        "  print(\"above 70\")\n",
        "if x<50:\n",
        "  print(\"below 50\")\n",
        "else:\n",
        "  print(\"above 50\")\n",
        "if x<40:\n",
        "  print(\"below 40\")\n",
        "else:\n",
        "  print(\"above 40\")\n"
      ],
      "metadata": {
        "colab": {
          "base_uri": "https://localhost:8080/"
        },
        "id": "ngdF1cv8lkRR",
        "outputId": "3cf41227-f7f5-4224-8f16-376588fa3b62"
      },
      "execution_count": 159,
      "outputs": [
        {
          "output_type": "stream",
          "name": "stdout",
          "text": [
            "Enter a number:\n",
            "150\n",
            "above 70\n",
            "above 50\n",
            "above 40\n"
          ]
        }
      ]
    },
    {
      "cell_type": "markdown",
      "source": [
        "##Example 1 "
      ],
      "metadata": {
        "id": "dhgePkxZzLnZ"
      }
    },
    {
      "cell_type": "code",
      "source": [
        "print('Age qualified to vote')\n",
        "\n",
        "Age= int(input())\n",
        "\n",
        "if Age==18:\n",
        "  print('Qualified')\n",
        "else:\n",
        "  print('Not Qualified')\n",
        "\n",
        "if Age<18:\n",
        "  print('Qualified')\n",
        "else:\n",
        "  print('Not Qualified')\n",
        "\n",
        "if Age>=18:\n",
        "  print('Qualified')\n",
        "else:\n",
        "  print('Not Qualified')\n",
        "\n",
        "if Age!=18:\n",
        "  print('Qualified')\n",
        "else:\n",
        "  print('Not Qualified')"
      ],
      "metadata": {
        "colab": {
          "base_uri": "https://localhost:8080/"
        },
        "id": "rKDhBN3mzOYJ",
        "outputId": "6833f709-3191-48a4-8b49-c770cdf2cb46"
      },
      "execution_count": null,
      "outputs": [
        {
          "output_type": "stream",
          "name": "stdout",
          "text": [
            "Age qualified to vote\n",
            "18\n",
            "Qualified\n",
            "Not Qualified\n",
            "Qualified\n",
            "Not Qualified\n"
          ]
        }
      ]
    },
    {
      "cell_type": "markdown",
      "source": [
        "##Example 2"
      ],
      "metadata": {
        "id": "cXYanLMpLG85"
      }
    },
    {
      "cell_type": "code",
      "source": [
        "print('n =Positive, Negative, or Zero')\n",
        "x=(int(input()))\n",
        "\n",
        "if x>0:\n",
        "  print('it is positive number')\n",
        "elif x==0:\n",
        "  print('it is zero')\n",
        "else:\n",
        "  print('it is negeative number')"
      ],
      "metadata": {
        "colab": {
          "base_uri": "https://localhost:8080/"
        },
        "id": "bXIgcxiOLJB1",
        "outputId": "d82de57a-285e-447e-b11f-481b601e777b"
      },
      "execution_count": 89,
      "outputs": [
        {
          "output_type": "stream",
          "name": "stdout",
          "text": [
            "n =Positive, Negative, or Zero\n",
            "2\n",
            "it is positive number\n"
          ]
        }
      ]
    },
    {
      "cell_type": "code",
      "source": [
        "print('n =Positive, Negative, or Zero')\n",
        "x=(int(input()))\n",
        "\n",
        "if x>0:\n",
        "  print('it is positive number')\n",
        "elif x==0:\n",
        "  print('it is zero')\n",
        "else:\n",
        "  print('it is negeative number')"
      ],
      "metadata": {
        "colab": {
          "base_uri": "https://localhost:8080/"
        },
        "id": "o3QH2E1zXfiA",
        "outputId": "02c444d6-7460-4f61-db50-b098ca0439ec"
      },
      "execution_count": 90,
      "outputs": [
        {
          "output_type": "stream",
          "name": "stdout",
          "text": [
            "n =Positive, Negative, or Zero\n",
            "0\n",
            "it is zero\n"
          ]
        }
      ]
    },
    {
      "cell_type": "code",
      "source": [
        "print('n =Positive, Negative, or Zero')\n",
        "x=(int(input()))\n",
        "\n",
        "if x>0:\n",
        "  print('it is positive number')\n",
        "elif x==0:\n",
        "  print('it is zero')\n",
        "else:\n",
        "  print('it is negeative number')"
      ],
      "metadata": {
        "colab": {
          "base_uri": "https://localhost:8080/"
        },
        "id": "XBFP-ouoXjW3",
        "outputId": "9226ffe5-36ea-4929-ec7d-eb23396f3126"
      },
      "execution_count": 92,
      "outputs": [
        {
          "output_type": "stream",
          "name": "stdout",
          "text": [
            "n =Positive, Negative, or Zero\n",
            "-1\n",
            "it is negeative number\n"
          ]
        }
      ]
    },
    {
      "cell_type": "markdown",
      "source": [
        "##Example 3 "
      ],
      "metadata": {
        "id": "baXYyRUMXozq"
      }
    },
    {
      "cell_type": "code",
      "source": [
        "\n",
        "print('n =Positive, Negative, or Zero')\n",
        "g=(int(input()))\n",
        "\n",
        "if g>=75:\n",
        "  print('Passed')\n",
        "elif g==74:\n",
        "  print('Remedial')\n",
        "if g<74:\n",
        "  print('Failed') \n",
        "if g==-75:\n",
        "  print('Not acccepted')\n",
        "if g==-74:\n",
        "  print('Not acccepted')"
      ],
      "metadata": {
        "colab": {
          "base_uri": "https://localhost:8080/"
        },
        "id": "MwtDG-wFXwHr",
        "outputId": "06bf47bf-1d1d-4c5a-e92f-bbbe65fd2bfb"
      },
      "execution_count": 158,
      "outputs": [
        {
          "output_type": "stream",
          "name": "stdout",
          "text": [
            "n =Positive, Negative, or Zero\n",
            "-74\n",
            "Failed\n",
            "Not acccepted\n"
          ]
        }
      ]
    }
  ]
}