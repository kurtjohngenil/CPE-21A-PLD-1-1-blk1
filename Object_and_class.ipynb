{
  "nbformat": 4,
  "nbformat_minor": 0,
  "metadata": {
    "colab": {
      "provenance": [],
      "authorship_tag": "ABX9TyMAYmfeCRzwiNoMerOOriuX",
      "include_colab_link": true
    },
    "kernelspec": {
      "name": "python3",
      "display_name": "Python 3"
    },
    "language_info": {
      "name": "python"
    }
  },
  "cells": [
    {
      "cell_type": "markdown",
      "metadata": {
        "id": "view-in-github",
        "colab_type": "text"
      },
      "source": [
        "<a href=\"https://colab.research.google.com/github/kurtjohngenil/CPE-21A-PLD-1-1-blk1/blob/main/Object_and_class.ipynb\" target=\"_parent\"><img src=\"https://colab.research.google.com/assets/colab-badge.svg\" alt=\"Open In Colab\"/></a>"
      ]
    },
    {
      "cell_type": "code",
      "execution_count": 12,
      "metadata": {
        "colab": {
          "base_uri": "https://localhost:8080/"
        },
        "id": "GS65d-dquElX",
        "outputId": "d807c3c8-6a43-46e1-a02d-3a84bf99f7a3"
      },
      "outputs": [
        {
          "output_type": "stream",
          "name": "stdout",
          "text": [
            "My name is Kurt\n",
            "My age is 18\n",
            "Niel\n",
            "20\n"
          ]
        }
      ],
      "source": [
        "#Creating class and object\n",
        "\n",
        "class Person:\n",
        "   def __init__(self, name, age):\n",
        "     self.name = name\n",
        "     self.age = age\n",
        "\n",
        "person = Person(\"Kurt\", 18)\n",
        "print(\"My name is\", person.name)\n",
        "print(\"My age is\", person.age)\n",
        "\n",
        "class Student(Person):\n",
        "  pass\n",
        "\n",
        "student = Student (\"Niel\", 20)\n",
        "print(student.name)\n",
        "print(student.age)"
      ]
    },
    {
      "cell_type": "code",
      "source": [
        "#Excersice 1\n",
        "\n",
        "# Write a Python program that:\n",
        "# Use Shape as parent class, Rectangle as child class with length and width attributes\n",
        "# Use Perimeter() and Area() as methods to compute for the perimeter and area of the rectangle \n",
        "\n",
        "class Shape:\n",
        "   def __init__(self,area,perimeter):\n",
        "     self.area = area\n",
        "     self.perimeter = perimeter\n",
        "\n",
        "shape = Shape(50,10)\n",
        "print(shape.area)\n",
        "print(shape.perimeter)\n",
        "\n",
        "class Rectangle(Shape):\n",
        "  pass\n",
        "\n",
        "Rectangle = Rectangle(50, 100)\n",
        "print(Rectangle.area)\n",
        "print(Rectangle.perimeter)"
      ],
      "metadata": {
        "colab": {
          "base_uri": "https://localhost:8080/"
        },
        "id": "hDnmBwQgxUnH",
        "outputId": "d1dc11b9-1176-4223-b854-03ef18d6d5a6"
      },
      "execution_count": 14,
      "outputs": [
        {
          "output_type": "stream",
          "name": "stdout",
          "text": [
            "50\n",
            "10\n",
            "50\n",
            "100\n"
          ]
        }
      ]
    }
  ]
}