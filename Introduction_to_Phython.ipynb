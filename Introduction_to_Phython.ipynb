{
  "nbformat": 4,
  "nbformat_minor": 0,
  "metadata": {
    "colab": {
      "provenance": [],
      "authorship_tag": "ABX9TyPRpk6abM07S0ylHZGhVAZ/",
      "include_colab_link": true
    },
    "kernelspec": {
      "name": "python3",
      "display_name": "Python 3"
    },
    "language_info": {
      "name": "python"
    }
  },
  "cells": [
    {
      "cell_type": "markdown",
      "metadata": {
        "id": "view-in-github",
        "colab_type": "text"
      },
      "source": [
        "<a href=\"https://colab.research.google.com/github/kurtjohngenil/CPE-21A-PLD-1-1-blk1/blob/main/Introduction_to_Phython.ipynb\" target=\"_parent\"><img src=\"https://colab.research.google.com/assets/colab-badge.svg\" alt=\"Open In Colab\"/></a>"
      ]
    },
    {
      "cell_type": "markdown",
      "source": [
        "#indentation"
      ],
      "metadata": {
        "id": "JoZdKkKBoNu-"
      }
    },
    {
      "cell_type": "code",
      "source": [
        "if 10+5:\n",
        "  print(\"the value of 10+5 is equal to 15\")    #This is a comment"
      ],
      "metadata": {
        "colab": {
          "base_uri": "https://localhost:8080/"
        },
        "id": "ki2BalPLohK2",
        "outputId": "566f5414-3a35-421b-9271-020daf790b0d"
      },
      "execution_count": 5,
      "outputs": [
        {
          "output_type": "stream",
          "name": "stdout",
          "text": [
            "the value of 10+5 is equal to 15\n"
          ]
        }
      ]
    },
    {
      "cell_type": "markdown",
      "source": [
        "#Variable Declaration"
      ],
      "metadata": {
        "id": "d6V44olzqoU9"
      }
    },
    {
      "cell_type": "code",
      "source": [
        "from re import X\n",
        "#variable with a single value\n",
        "\n",
        "h=8\n",
        "g=3\n",
        "if h>g:\n",
        "  print(\"h is greater than g\")\n",
        "else:\n",
        "  print(\"g is greater than h\")\n",
        "\n",
        "\n",
        "#variable with multiple values\n",
        "\n",
        "x,y=4.5,5.12245\n",
        "print(x)\n",
        "print(y)\n",
        "\n",
        "print(\"The value of x is.\",x)\n",
        "print(\"The value of y is.\",y)"
      ],
      "metadata": {
        "colab": {
          "base_uri": "https://localhost:8080/"
        },
        "id": "FcsZNeLGquMM",
        "outputId": "8e86dc15-2ca3-410e-c4a7-11b8025e175b"
      },
      "execution_count": 16,
      "outputs": [
        {
          "output_type": "stream",
          "name": "stdout",
          "text": [
            "h is greater than g\n",
            "4.5\n",
            "5.12245\n",
            "The value of x is. 4.5\n",
            "The value of y is. 5.12245\n"
          ]
        }
      ]
    },
    {
      "cell_type": "markdown",
      "source": [
        "#Casting and Type() Function "
      ],
      "metadata": {
        "id": "mazN_yQ9ubHT"
      }
    },
    {
      "cell_type": "code",
      "source": [
        "g=int(2)   #integer\n",
        "j=float(2) #decimal/fractional \n",
        "\n",
        "print(g)\n",
        "print(j)\n",
        "\n",
        "print(type(g))\n",
        "print(type(j))"
      ],
      "metadata": {
        "colab": {
          "base_uri": "https://localhost:8080/"
        },
        "id": "enU9FOcoui7a",
        "outputId": "d2c2e336-8db8-4fc4-f231-d109ae6ecf40"
      },
      "execution_count": 32,
      "outputs": [
        {
          "output_type": "stream",
          "name": "stdout",
          "text": [
            "2\n",
            "2.0\n",
            "<class 'int'>\n",
            "<class 'float'>\n"
          ]
        }
      ]
    },
    {
      "cell_type": "markdown",
      "source": [
        "#Double or single quote"
      ],
      "metadata": {
        "id": "avT4dfLr1OHO"
      }
    },
    {
      "cell_type": "code",
      "source": [
        "name=\"HELLO\"\n",
        "Name='ME?'\n",
        "\n",
        "print(name)\n",
        "print(Name)"
      ],
      "metadata": {
        "colab": {
          "base_uri": "https://localhost:8080/"
        },
        "id": "s9i9wfuF1R-G",
        "outputId": "4aed457d-129b-47f0-cee3-8787eae4f35c"
      },
      "execution_count": 23,
      "outputs": [
        {
          "output_type": "stream",
          "name": "stdout",
          "text": [
            "HELLO\n",
            "ME?\n"
          ]
        }
      ]
    },
    {
      "cell_type": "markdown",
      "source": [
        "#Case Sensitive"
      ],
      "metadata": {
        "id": "eIQjApHp2Hed"
      }
    },
    {
      "cell_type": "code",
      "source": [
        "g = 'Anne'\n",
        "print(g)"
      ],
      "metadata": {
        "colab": {
          "base_uri": "https://localhost:8080/"
        },
        "id": "xAt1kMXq2HQO",
        "outputId": "900878eb-0bf0-4c78-e912-9d1e89a1b57e"
      },
      "execution_count": 33,
      "outputs": [
        {
          "output_type": "stream",
          "name": "stdout",
          "text": [
            "Anne\n"
          ]
        }
      ]
    },
    {
      "cell_type": "markdown",
      "source": [
        "#One Value to Multiple Variables"
      ],
      "metadata": {
        "id": "2G38UXSC3UbZ"
      }
    },
    {
      "cell_type": "code",
      "source": [
        "from re import X\n",
        "#variable with a single value\n",
        "\n",
        "h=8\n",
        "g=3\n",
        "if h>g:\n",
        "  print(\"h is greater than g\")\n",
        "else:\n",
        "  print(\"g is greater than h\")\n",
        "\n",
        "\n",
        "#variable with multiple values\n",
        "\n",
        "x,y=4.5,5.12245\n",
        "print(x)\n",
        "print(y)\n",
        "\n",
        "print(\"The value of x is.\",x)\n",
        "print(\"The value of y is.\",y)\n",
        "\n",
        "#multiple variables with single value\n",
        "\n",
        "p = y = q = 'ako'\n",
        "print(p)\n",
        "print(y)\n",
        "print(q)"
      ],
      "metadata": {
        "colab": {
          "base_uri": "https://localhost:8080/"
        },
        "id": "rK0ZD4VT3hKI",
        "outputId": "bb947402-ce62-4022-fb27-7510fcefea02"
      },
      "execution_count": 35,
      "outputs": [
        {
          "output_type": "stream",
          "name": "stdout",
          "text": [
            "h is greater than g\n",
            "4.5\n",
            "5.12245\n",
            "The value of x is. 4.5\n",
            "The value of y is. 5.12245\n",
            "ako\n",
            "ako\n",
            "ako\n"
          ]
        }
      ]
    },
    {
      "cell_type": "markdown",
      "source": [
        "#Output Variable"
      ],
      "metadata": {
        "id": "IIbWrFZ951Pi"
      }
    },
    {
      "cell_type": "code",
      "source": [
        "c = 'life is short'\n",
        "print('just enjoy,'+'  '+c )   #append is enjoying"
      ],
      "metadata": {
        "colab": {
          "base_uri": "https://localhost:8080/"
        },
        "id": "s9DTQhRO58my",
        "outputId": "9763f360-3bc0-4601-d8e5-8b4bbb3b7632"
      },
      "execution_count": 37,
      "outputs": [
        {
          "output_type": "stream",
          "name": "stdout",
          "text": [
            "just enjoy,  life is short\n"
          ]
        }
      ]
    }
  ]
}