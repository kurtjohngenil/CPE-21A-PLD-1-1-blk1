{
  "nbformat": 4,
  "nbformat_minor": 0,
  "metadata": {
    "colab": {
      "provenance": [],
      "authorship_tag": "ABX9TyOqss7sx4OGpSIhRYy4Irjs",
      "include_colab_link": true
    },
    "kernelspec": {
      "name": "python3",
      "display_name": "Python 3"
    },
    "language_info": {
      "name": "python"
    }
  },
  "cells": [
    {
      "cell_type": "markdown",
      "metadata": {
        "id": "view-in-github",
        "colab_type": "text"
      },
      "source": [
        "<a href=\"https://colab.research.google.com/github/kurtjohngenil/CPE-21A-PLD-1-1-blk1/blob/main/Python_as_Function.ipynb\" target=\"_parent\"><img src=\"https://colab.research.google.com/assets/colab-badge.svg\" alt=\"Open In Colab\"/></a>"
      ]
    },
    {
      "cell_type": "code",
      "source": [
        "#Function Calls\n",
        "\n",
        "abs(-4.5)"
      ],
      "metadata": {
        "colab": {
          "base_uri": "https://localhost:8080/"
        },
        "id": "82B14swYojc8",
        "outputId": "a1c253e6-bc08-49f8-a321-fc1be5df1949"
      },
      "execution_count": 4,
      "outputs": [
        {
          "output_type": "execute_result",
          "data": {
            "text/plain": [
              "4.5"
            ]
          },
          "metadata": {},
          "execution_count": 4
        }
      ]
    },
    {
      "cell_type": "code",
      "source": [
        "#Function Calls other function\n",
        "\n",
        "pow(abs(-2),round(4.5))   #pow(2,4)"
      ],
      "metadata": {
        "colab": {
          "base_uri": "https://localhost:8080/"
        },
        "id": "yNP2ZHxSo029",
        "outputId": "4b987b55-342a-4e61-a474-80e151ad0f5b"
      },
      "execution_count": 5,
      "outputs": [
        {
          "output_type": "execute_result",
          "data": {
            "text/plain": [
              "16"
            ]
          },
          "metadata": {},
          "execution_count": 5
        }
      ]
    },
    {
      "cell_type": "code",
      "source": [
        "#Type code function\n",
        "\n",
        "int(4.5)\n",
        "float(4)"
      ],
      "metadata": {
        "colab": {
          "base_uri": "https://localhost:8080/"
        },
        "id": "3poEbvjxo6Rk",
        "outputId": "9a32ef3a-bac9-4d25-9998-e5e1a4740b4c"
      },
      "execution_count": 6,
      "outputs": [
        {
          "output_type": "execute_result",
          "data": {
            "text/plain": [
              "4.0"
            ]
          },
          "metadata": {},
          "execution_count": 6
        }
      ]
    },
    {
      "cell_type": "code",
      "source": [
        "#Defining own function\n",
        "\n",
        "\n",
        "def convert_to_celsius(fahrenheit):\n",
        "  celsius = (fahrenheit-32)*5/9\n",
        "  return celsius\n",
        "\n",
        "fahrenheit = float(input(\"Enter a number in fahrenheit:\"))\n",
        "\n",
        "f=convert_to_celsius(fahrenheit)\n",
        "print(round(f,2))"
      ],
      "metadata": {
        "colab": {
          "base_uri": "https://localhost:8080/"
        },
        "id": "KkeyZ-ivo8Um",
        "outputId": "46e1ed75-23dc-4580-e03f-88674bde973e"
      },
      "execution_count": 7,
      "outputs": [
        {
          "output_type": "stream",
          "name": "stdout",
          "text": [
            "Enter a number in fahrenheit:100\n",
            "37.78\n"
          ]
        }
      ]
    },
    {
      "cell_type": "code",
      "source": [
        "#Exercise\n",
        "\n",
        "a=min(2,3,4)\n",
        "b=max(2,-3,4,7,-5)\n",
        "c=max(2,-3, min(4,7),-5)\n",
        "\n",
        "print(a)\n",
        "print(b)\n",
        "print(c)"
      ],
      "metadata": {
        "colab": {
          "base_uri": "https://localhost:8080/"
        },
        "id": "7xlKP6mOpDVe",
        "outputId": "a1f66ca4-62c4-4227-aa08-657943bff8a1"
      },
      "execution_count": 8,
      "outputs": [
        {
          "output_type": "stream",
          "name": "stdout",
          "text": [
            "2\n",
            "7\n",
            "4\n"
          ]
        }
      ]
    }
  ]
}