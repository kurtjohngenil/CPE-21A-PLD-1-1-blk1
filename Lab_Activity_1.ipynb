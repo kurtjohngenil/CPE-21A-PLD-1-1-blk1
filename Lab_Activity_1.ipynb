{
  "nbformat": 4,
  "nbformat_minor": 0,
  "metadata": {
    "colab": {
      "provenance": [],
      "authorship_tag": "ABX9TyOysEVONRud9DlsBTNJw1tu",
      "include_colab_link": true
    },
    "kernelspec": {
      "name": "python3",
      "display_name": "Python 3"
    },
    "language_info": {
      "name": "python"
    }
  },
  "cells": [
    {
      "cell_type": "markdown",
      "metadata": {
        "id": "view-in-github",
        "colab_type": "text"
      },
      "source": [
        "<a href=\"https://colab.research.google.com/github/kurtjohngenil/CPE-21A-PLD-1-1-blk1/blob/main/Lab_Activity_1.ipynb\" target=\"_parent\"><img src=\"https://colab.research.google.com/assets/colab-badge.svg\" alt=\"Open In Colab\"/></a>"
      ]
    },
    {
      "cell_type": "markdown",
      "source": [
        "#Problem No.1"
      ],
      "metadata": {
        "id": "QQF1IlsnlrK3"
      }
    },
    {
      "cell_type": "code",
      "source": [
        "n = 20\n",
        "totalnumbers = n\n",
        "sum= 50\n",
        "average = 5\n",
        "\n",
        "while n>=0:\n",
        "  sum +=0\n",
        "  n-= 1\n",
        "\n",
        "average = sum/totalnumbers\n",
        "print('sum =', sum)\n",
        "print('average =', average)"
      ],
      "metadata": {
        "colab": {
          "base_uri": "https://localhost:8080/"
        },
        "id": "wZUjFBCxltz-",
        "outputId": "547799f4-1348-4618-b6bf-dd9961c27ffa"
      },
      "execution_count": 125,
      "outputs": [
        {
          "output_type": "stream",
          "name": "stdout",
          "text": [
            "sum = 50\n",
            "average = 2.5\n"
          ]
        }
      ]
    },
    {
      "cell_type": "markdown",
      "source": [
        "#Problem 2"
      ],
      "metadata": {
        "id": "eMYYmVhrMj8h"
      }
    },
    {
      "cell_type": "code",
      "source": [
        "class Student:\n",
        "  def __init__(student, name, student_number, age,school, course):\n",
        "    student.name = name\n",
        "    student.age = age\n",
        "    student.student_number = student_number\n",
        "    student.school = school\n",
        "    student.course = course\n",
        "\n",
        "    def Info(student):\n",
        "      return (\"name\" + \"age\" + \"student_number\" + \"school\" + \"course\")\n",
        "\n",
        "Myself = Student(\"Kurt John Paul Z. Genil\", \"202203971\", \"18 years old\", \"Cavite State University Main-Indang Campus(CvSU)\",\"BSCpE 1-1\")\n",
        "print(\"Student's Information:\")\n",
        "print(Myself.age)\n",
        "print(Myself.student_number)\n",
        "print(Myself.school)\n",
        "print(Myself.course)\n",
        "print(Myself.name)"
      ],
      "metadata": {
        "colab": {
          "base_uri": "https://localhost:8080/"
        },
        "id": "cVtMXFR3Mlzm",
        "outputId": "ceb68460-383b-4555-c23a-90417f61fbba"
      },
      "execution_count": 126,
      "outputs": [
        {
          "output_type": "stream",
          "name": "stdout",
          "text": [
            "Student's Information:\n",
            "18 years old\n",
            "202203971\n",
            "Cavite State University Main-Indang Campus(CvSU)\n",
            "BSCpE 1-1\n",
            "Kurt John Paul Z. Genil\n"
          ]
        }
      ]
    }
  ]
}