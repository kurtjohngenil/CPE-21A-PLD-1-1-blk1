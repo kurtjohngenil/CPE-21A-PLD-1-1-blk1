{
  "nbformat": 4,
  "nbformat_minor": 0,
  "metadata": {
    "colab": {
      "provenance": [],
      "authorship_tag": "ABX9TyN4VN76XcuxB00iBFdDz1uY",
      "include_colab_link": true
    },
    "kernelspec": {
      "name": "python3",
      "display_name": "Python 3"
    },
    "language_info": {
      "name": "python"
    }
  },
  "cells": [
    {
      "cell_type": "markdown",
      "metadata": {
        "id": "view-in-github",
        "colab_type": "text"
      },
      "source": [
        "<a href=\"https://colab.research.google.com/github/kurtjohngenil/CPE-21A-PLD-1-1-blk1/blob/main/Python_Lists%2C_Sets%2C_Tuples%2C_and_Dictionaries.ipynb\" target=\"_parent\"><img src=\"https://colab.research.google.com/assets/colab-badge.svg\" alt=\"Open In Colab\"/></a>"
      ]
    },
    {
      "cell_type": "code",
      "execution_count": null,
      "metadata": {
        "colab": {
          "base_uri": "https://localhost:8080/"
        },
        "id": "yfPOtGxtz_qs",
        "outputId": "68b3ff1c-a07a-48f3-c323-d447c4879372"
      },
      "outputs": [
        {
          "output_type": "stream",
          "name": "stdout",
          "text": [
            "3.14159\n",
            "10\n",
            "Hi???\n",
            "World!\n",
            "World!\n"
          ]
        }
      ],
      "source": [
        "#Lists\n",
        "pi = 3.14159\n",
        "varList = [5,10,'Z','H',\"Hi???\", pi]\n",
        "print(varList[5])\n",
        "print(varList[1])\n",
        "print(varList[4])\n",
        "\n",
        "varList.append('World!')\n",
        "print(varList[6])\n",
        "len(varList)\n",
        "\n",
        "varList.remove(pi)\n",
        "print(varList[5])\n",
        "\n"
      ]
    },
    {
      "cell_type": "code",
      "source": [
        "#Python Dictionary\n",
        "\n",
        "thisdict = {'name':'Kurt John Paul Z. Genil',\n",
        "              'section': 'BSCpE 1-1', \n",
        "              'Student number': '202203971'\n",
        "             }\n",
        "print(thisdict)"
      ],
      "metadata": {
        "colab": {
          "base_uri": "https://localhost:8080/"
        },
        "id": "aLDCF_sazGba",
        "outputId": "24a90421-f6eb-46ba-c3e2-5864933c109b"
      },
      "execution_count": null,
      "outputs": [
        {
          "output_type": "stream",
          "name": "stdout",
          "text": [
            "{'name': 'Kurt John Paul Z. Genil', 'section': 'BSCpE 1-1', 'Student number': '202203971'}\n"
          ]
        }
      ]
    },
    {
      "cell_type": "code",
      "source": [
        "#List Generators and Comprehension\n",
        "\n",
        "def gen_num_up_to(n):\n",
        "  num = 20\n",
        "  while num < n:\n",
        "    yield num\n",
        "    num += 10\n",
        "gen_num_up_to(50)\n",
        "\n",
        "varList = gen_num_up_to(50)\n",
        "print([var for var in varList])"
      ],
      "metadata": {
        "colab": {
          "base_uri": "https://localhost:8080/"
        },
        "id": "Y7PocC5eh2xX",
        "outputId": "8d425ecd-00cc-47c3-8d82-54b54a5faf27"
      },
      "execution_count": 10,
      "outputs": [
        {
          "output_type": "stream",
          "name": "stdout",
          "text": [
            "[20, 30, 40]\n"
          ]
        }
      ]
    },
    {
      "cell_type": "code",
      "source": [
        "#Slicing\n",
        "\n",
        "List= [ 2, 4, 6, 8, 10, 12, 14, 16, 18, 20]\n",
        "print(List[:2])\n",
        "print(List[:5])\n",
        "print(List[:-7])\n",
        "print(List[-2:])\n",
        "print(List[2:-2])\n",
        "print(List[5:6:2])\n"
      ],
      "metadata": {
        "colab": {
          "base_uri": "https://localhost:8080/"
        },
        "id": "i6I2b9zUjXBQ",
        "outputId": "f7e16b71-5019-4c1d-bc06-1f65c83b40bb"
      },
      "execution_count": 28,
      "outputs": [
        {
          "output_type": "stream",
          "name": "stdout",
          "text": [
            "[2, 4]\n",
            "[2, 4, 6, 8, 10]\n",
            "[2, 4, 6]\n",
            "[18, 20]\n",
            "[6, 8, 10, 12, 14, 16]\n",
            "[12]\n"
          ]
        }
      ]
    }
  ]
}