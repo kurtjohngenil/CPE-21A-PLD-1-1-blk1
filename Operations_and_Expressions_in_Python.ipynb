{
  "nbformat": 4,
  "nbformat_minor": 0,
  "metadata": {
    "colab": {
      "provenance": [],
      "authorship_tag": "ABX9TyO9XLjjTlI7znbjVhjqyqFa",
      "include_colab_link": true
    },
    "kernelspec": {
      "name": "python3",
      "display_name": "Python 3"
    },
    "language_info": {
      "name": "python"
    }
  },
  "cells": [
    {
      "cell_type": "markdown",
      "metadata": {
        "id": "view-in-github",
        "colab_type": "text"
      },
      "source": [
        "<a href=\"https://colab.research.google.com/github/kurtjohngenil/CPE-21A-PLD-1-1-blk1/blob/main/Operations_and_Expressions_in_Python.ipynb\" target=\"_parent\"><img src=\"https://colab.research.google.com/assets/colab-badge.svg\" alt=\"Open In Colab\"/></a>"
      ]
    },
    {
      "cell_type": "markdown",
      "source": [
        "##Boolean Operators"
      ],
      "metadata": {
        "id": "wUGUWs87_yqo"
      }
    },
    {
      "cell_type": "code",
      "source": [
        "a=10\n",
        "b=4\n",
        "c=7\n",
        "\n",
        "print(a<c)\n",
        "print(a==c)\n",
        "print(a>c)"
      ],
      "metadata": {
        "colab": {
          "base_uri": "https://localhost:8080/"
        },
        "id": "ydy0J99qAHQW",
        "outputId": "28a3b7fc-6707-471b-d4d5-f7bf256b4336"
      },
      "execution_count": 19,
      "outputs": [
        {
          "output_type": "stream",
          "name": "stdout",
          "text": [
            "False\n",
            "False\n",
            "True\n"
          ]
        }
      ]
    },
    {
      "cell_type": "markdown",
      "source": [
        "##Boolean Functions"
      ],
      "metadata": {
        "id": "ao2ZZskwAnb1"
      }
    },
    {
      "cell_type": "code",
      "source": [
        "print(bool('Hello'))\n",
        "print(bool('crush ako ng crush ko'))\n",
        "print(bool(20))\n",
        "print(bool(None))\n",
        "print(bool(False))\n",
        "print(bool(0))\n",
        "print(bool([{}]))\n",
        "print(bool([]))"
      ],
      "metadata": {
        "id": "YkMtoXB8A16X",
        "colab": {
          "base_uri": "https://localhost:8080/"
        },
        "outputId": "88522b43-3d9c-43a7-95e3-0aed6100f122"
      },
      "execution_count": 21,
      "outputs": [
        {
          "output_type": "stream",
          "name": "stdout",
          "text": [
            "True\n",
            "True\n",
            "True\n",
            "False\n",
            "False\n",
            "False\n",
            "True\n",
            "False\n"
          ]
        }
      ]
    },
    {
      "cell_type": "code",
      "source": [
        "def myFunction(): return True\n",
        "print(myFunction())\n",
        "\n",
        "if myFunction():\n",
        " print('Yes!')\n",
        "else:\n",
        " print('No!')"
      ],
      "metadata": {
        "colab": {
          "base_uri": "https://localhost:8080/"
        },
        "id": "oFvh_FBgF7_V",
        "outputId": "a1821dd8-4d97-4209-bf1c-a13f97d0a3a0"
      },
      "execution_count": 39,
      "outputs": [
        {
          "output_type": "stream",
          "name": "stdout",
          "text": [
            "True\n",
            "Yes!\n"
          ]
        }
      ]
    },
    {
      "cell_type": "code",
      "source": [
        "print(100>50)\n",
        "\n",
        "a=50\n",
        "b=100\n",
        "print(50==50)\n",
        "print(a!=b)\n",
        "print(a!=a)"
      ],
      "metadata": {
        "colab": {
          "base_uri": "https://localhost:8080/"
        },
        "id": "F2ZId3AbI5P5",
        "outputId": "5eef78a3-b18b-48f7-9f6a-f39e39121130"
      },
      "execution_count": 47,
      "outputs": [
        {
          "output_type": "stream",
          "name": "stdout",
          "text": [
            "True\n",
            "True\n",
            "True\n",
            "False\n"
          ]
        }
      ]
    },
    {
      "cell_type": "markdown",
      "source": [
        "##Python Operators"
      ],
      "metadata": {
        "id": "IL68hFHlJ0Xu"
      }
    },
    {
      "cell_type": "code",
      "source": [
        "print(100+50/2)\n",
        "print(10/2)\n",
        "print(100+10)\n",
        "print(10*10)\n",
        "print(10-10)\n",
        "print(5%10)\n",
        "print(50//10)\n",
        "print(50**2)\n"
      ],
      "metadata": {
        "colab": {
          "base_uri": "https://localhost:8080/"
        },
        "id": "x9PqyYGUJ4c8",
        "outputId": "7050b256-c45a-4293-eadf-db5ad354a122"
      },
      "execution_count": 63,
      "outputs": [
        {
          "output_type": "stream",
          "name": "stdout",
          "text": [
            "125.0\n",
            "5.0\n",
            "110\n",
            "100\n",
            "0\n",
            "5\n",
            "5\n",
            "2500\n"
          ]
        }
      ]
    },
    {
      "cell_type": "markdown",
      "source": [
        "##Bitwise Operators"
      ],
      "metadata": {
        "id": "D3_aUvWmMbnq"
      }
    },
    {
      "cell_type": "code",
      "source": [
        "a=226\n",
        "b=222\n",
        "\n",
        "print(a & b)\n",
        "print(a | b)\n",
        "print(a^b)\n",
        "print(~a)\n",
        "print(a<<2)\n",
        "print(a>>2)"
      ],
      "metadata": {
        "colab": {
          "base_uri": "https://localhost:8080/"
        },
        "id": "6PA-WswJMe86",
        "outputId": "51e20878-3b56-4475-f174-ca9f1f4b46b8"
      },
      "execution_count": 88,
      "outputs": [
        {
          "output_type": "stream",
          "name": "stdout",
          "text": [
            "194\n",
            "254\n",
            "60\n",
            "-227\n",
            "904\n",
            "56\n"
          ]
        }
      ]
    },
    {
      "cell_type": "markdown",
      "source": [
        "##Assignment Operators"
      ],
      "metadata": {
        "id": "D6g5PpOdSump"
      }
    },
    {
      "cell_type": "code",
      "source": [
        "x = 10\n",
        "x +=20 #Same As x = x + 20\n",
        "print(x)\n"
      ],
      "metadata": {
        "colab": {
          "base_uri": "https://localhost:8080/"
        },
        "id": "nT-ZBdgTSxnm",
        "outputId": "a81ddf67-c02a-467d-ba64-025f0702c9a5"
      },
      "execution_count": 100,
      "outputs": [
        {
          "output_type": "stream",
          "name": "stdout",
          "text": [
            "30\n"
          ]
        }
      ]
    },
    {
      "cell_type": "code",
      "source": [
        "x = 10\n",
        "x -=20 #Same As x = x - 20\n",
        "print(x)"
      ],
      "metadata": {
        "colab": {
          "base_uri": "https://localhost:8080/"
        },
        "id": "U43Eid4_U0Lg",
        "outputId": "106df302-6f5d-4d6d-b7dd-77cff7c13ba6"
      },
      "execution_count": 94,
      "outputs": [
        {
          "output_type": "stream",
          "name": "stdout",
          "text": [
            "-10\n"
          ]
        }
      ]
    },
    {
      "cell_type": "code",
      "source": [
        "x = 10 \n",
        "x *=20 #Same As x = x * 20\n",
        "print(x)"
      ],
      "metadata": {
        "colab": {
          "base_uri": "https://localhost:8080/"
        },
        "id": "geq5TnASU75Q",
        "outputId": "17c9e513-715e-4926-a07c-30e885a40f1e"
      },
      "execution_count": 96,
      "outputs": [
        {
          "output_type": "stream",
          "name": "stdout",
          "text": [
            "200\n"
          ]
        }
      ]
    },
    {
      "cell_type": "code",
      "source": [
        "x = 10\n",
        "x /=20 #Same As x = x/20\n",
        "print(x)"
      ],
      "metadata": {
        "colab": {
          "base_uri": "https://localhost:8080/"
        },
        "id": "NHfrcNBCVChd",
        "outputId": "ac55eedf-560e-4720-eaba-d6cd6a015ae2"
      },
      "execution_count": 97,
      "outputs": [
        {
          "output_type": "stream",
          "name": "stdout",
          "text": [
            "0.5\n"
          ]
        }
      ]
    },
    {
      "cell_type": "code",
      "source": [
        "x = 10 \n",
        "x &=20 #Same As x = x&20\n",
        "print(x)"
      ],
      "metadata": {
        "colab": {
          "base_uri": "https://localhost:8080/"
        },
        "id": "JgArDFb5VWF_",
        "outputId": "b9376c90-089e-471e-e101-d91549b64466"
      },
      "execution_count": 98,
      "outputs": [
        {
          "output_type": "stream",
          "name": "stdout",
          "text": [
            "0\n"
          ]
        }
      ]
    },
    {
      "cell_type": "markdown",
      "source": [
        "##Logical Operators"
      ],
      "metadata": {
        "id": "5Gx3Le4nVh4c"
      }
    },
    {
      "cell_type": "code",
      "source": [
        "a=10\n",
        "b=4\n",
        "c=7\n",
        "\n",
        "print(a<c and a>c)\n",
        "print(a>b or a==b)\n",
        "print(not(a>b and a<b))\n"
      ],
      "metadata": {
        "colab": {
          "base_uri": "https://localhost:8080/"
        },
        "id": "bC2RYYrGVkqn",
        "outputId": "a264799b-25cc-4dd0-ac5e-a1494ed026d6"
      },
      "execution_count": 118,
      "outputs": [
        {
          "output_type": "stream",
          "name": "stdout",
          "text": [
            "False\n",
            "True\n",
            "True\n"
          ]
        }
      ]
    },
    {
      "cell_type": "markdown",
      "source": [
        "##Identify Operators"
      ],
      "metadata": {
        "id": "yDVGETZIZdLf"
      }
    },
    {
      "cell_type": "code",
      "source": [
        "a = 19\n",
        "b = 20\n",
        "\n",
        "print(a is b)\n",
        "print(a is not b)"
      ],
      "metadata": {
        "colab": {
          "base_uri": "https://localhost:8080/"
        },
        "id": "PymBxu7cZiB7",
        "outputId": "1377c6fa-bef7-49f4-c307-f1eaa7096a77"
      },
      "execution_count": 119,
      "outputs": [
        {
          "output_type": "stream",
          "name": "stdout",
          "text": [
            "False\n",
            "True\n"
          ]
        }
      ]
    }
  ]
}